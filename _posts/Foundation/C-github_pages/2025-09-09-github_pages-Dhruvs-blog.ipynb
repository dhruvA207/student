{
 "cells": [
  {
   "cell_type": "markdown",
   "id": "039dfc4c",
   "metadata": {},
   "source": [
    "# 1. Installing VS Code and Dependencies on Mac\n",
    "\n",
    "On a **Mac**, you’ll need to set up a few dependencies before installing VS Code.\n",
    "\n",
    "## **Step 1: Install Homebrew**\n",
    "Homebrew is a package manager for macOS that makes it easy to install software.\n",
    "\n",
    "Open **Terminal** and run:"
   ]
  },
  {
   "cell_type": "code",
   "execution_count": null,
   "id": "79ea4159",
   "metadata": {
    "vscode": {
     "languageId": "bash"
    }
   },
   "outputs": [],
   "source": [
    "/bin/bash -c \"$(curl -fsSL https://raw.githubusercontent.com/Homebrew/install/HEAD/install.sh)\""
   ]
  },
  {
   "cell_type": "markdown",
   "id": "c659e3e6",
   "metadata": {},
   "source": [
    "---\n",
    "\n",
    "## **Verified Installations:**"
   ]
  },
  {
   "cell_type": "code",
   "execution_count": null,
   "id": "3937cfb5",
   "metadata": {
    "vscode": {
     "languageId": "bash"
    }
   },
   "outputs": [],
   "source": [
    "# Check Python version\n",
    "python --version\n",
    "\n",
    "# Check Git version and configuration\n",
    "git --version\n",
    "git config --global user.name \"Dhruv Agrawal\"\n",
    "git config --global user.email \"dhruvagrawal.v@gmail.com\""
   ]
  },
  {
   "cell_type": "markdown",
   "id": "d62ecf3c",
   "metadata": {},
   "source": [
    "# 2. Managing Repositories\n",
    "\n",
    "- Copied the `pages` repository into a personal folder under the `opencs` directory\n",
    "- Experimented with theme changes in the `pages` repo to personalize the site\n",
    "- Created a student personal repository"
   ]
  },
  {
   "cell_type": "markdown",
   "id": "c687127a",
   "metadata": {},
   "source": [
    "# 3. Setting Up a Virtual Environment\n",
    "\n",
    "Run setup script for virtual environment:"
   ]
  },
  {
   "cell_type": "code",
   "execution_count": null,
   "id": "378edbf4",
   "metadata": {
    "vscode": {
     "languageId": "bash"
    }
   },
   "outputs": [],
   "source": [
    "# Setup virtual environment\n",
    "./scripts/venv.sh"
   ]
  },
  {
   "cell_type": "code",
   "execution_count": null,
   "id": "2a9493fe",
   "metadata": {
    "vscode": {
     "languageId": "bash"
    }
   },
   "outputs": [],
   "source": [
    "# Activate venv before running code\n",
    "source venv/bin/activate"
   ]
  },
  {
   "cell_type": "code",
   "execution_count": null,
   "id": "b5333228",
   "metadata": {
    "vscode": {
     "languageId": "bash"
    }
   },
   "outputs": [],
   "source": [
    "# if script doesn't work, manually build a venv\n",
    "python3 -m venv venv"
   ]
  },
  {
   "cell_type": "markdown",
   "id": "66983f27",
   "metadata": {},
   "source": [
    "# 4. Repository Collaboration\n",
    "\n",
    "- Created a shared repository for my team\n",
    "- Created a fork of the team repository"
   ]
  },
  {
   "cell_type": "markdown",
   "id": "713ff14a",
   "metadata": {},
   "source": [
    "# 5. Working with Jupyter Notebooks\n",
    "\n",
    "- Locate the notebook file (e.g., `Jokes.ipynb`) in the personal repo\n",
    "- **Open Developer Tools → Console → Clear**\n",
    "- Run cells with the play button\n",
    "- Adjust code so outputs display correctly on `pages` as well as changing the jokes to some of my own!\n",
    "- Commit changes with outputs:"
   ]
  },
  {
   "cell_type": "code",
   "execution_count": null,
   "id": "e9904229",
   "metadata": {
    "vscode": {
     "languageId": "bash"
    }
   },
   "outputs": [],
   "source": [
    "# Commit notebook with outputs\n",
    "git add <notebook_filename>.ipynb\n",
    "git commit -m \"Updated notebook with output\"\n",
    "git push"
   ]
  },
  {
   "cell_type": "markdown",
   "id": "ca771645",
   "metadata": {},
   "source": [
    "# 6. Other Tasks Completed\n",
    "\n",
    "- Verified all outputs in notebooks appeared correctly on pages\n",
    "- Confirmed Python code ran properly in the virtual environment\n",
    "- Managed multiple repositories and forks\n",
    "- Customized project settings and themes for personal workflow\n",
    "- Ensured VS Code functionality on Windows"
   ]
  },
  {
   "cell_type": "markdown",
   "id": "c9a64c85",
   "metadata": {},
   "source": [
    "# Final Thoughts\n",
    "\n",
    "After many efforts and tries, I started to understand what to do when I run into troubles on my Mac. Now I can succesfully run all the needed commands that we learned over the first sprint including backgrounds, themes, MD files, and make commands."
   ]
  },
  {
   "cell_type": "markdown",
   "id": "e50b7a5a",
   "metadata": {},
   "source": [
    "# Progress during weeks 1-4"
   ]
  },
  {
   "cell_type": "markdown",
   "id": "c958d2f9",
   "metadata": {},
   "source": [
    "## About Me Page\n",
    "- Created an **About Me page** in the `about.md` file"
   ]
  },
  {
   "cell_type": "markdown",
   "id": "2e94ff39",
   "metadata": {},
   "source": [
    "## Cloning Repositories\n",
    "- Cloned the pages repository of Open Coding Society (opencs)\n",
    "- Established Personal repository (student)\n",
    "- Cloned team repository (shared pages repo)\n",
    "- `git clone`"
   ]
  },
  {
   "cell_type": "markdown",
   "id": "bb96fa96",
   "metadata": {},
   "source": [
    "## Copying Files Between Repositories\n",
    "- Learned how to move files from one repo to another\n",
    "- For example, moved the 2025-09-03-background-lesson.ipy file from pages to personal repo"
   ]
  },
  {
   "cell_type": "markdown",
   "id": "69489880",
   "metadata": {},
   "source": [
    "## Jupyter Notebooks & Jokes\n",
    "- Opened and ran Jupyter Notebooks in VS Code (.ipynb)\n",
    "- Practiced with the Jokes.ipynb notebook and converted results into HTML format"
   ]
  },
  {
   "cell_type": "markdown",
   "id": "269b345a",
   "metadata": {},
   "source": [
    "## Changing Background\n",
    "- Made changes to the background.md file\n",
    "- By editing the front matter, we were able to change the background image for our website"
   ]
  }
 ],
 "metadata": {
  "language_info": {
   "name": "python"
  }
 },
 "nbformat": 4,
 "nbformat_minor": 5
}
