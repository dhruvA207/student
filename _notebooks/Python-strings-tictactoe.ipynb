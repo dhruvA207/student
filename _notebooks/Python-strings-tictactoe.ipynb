{
 "cells": [
  {
   "cell_type": "markdown",
   "id": "7b01474a",
   "metadata": {},
   "source": [
    "# Python Strings — Tic-tac-toe Examples\n",
    "\n",
    "This notebook teaches Python `str` basics using small examples drawn from the Tic-tac-toe notebooks in this repository. We use the board representation and display function from the existing Tic-tac-toe lesson to demonstrate how strings are used in a simple game context.\n",
    "\n",
    "Sources referenced: `_notebooks/Foundation/F-projects/2025-08-13-tic-tac-toe-code-lesson.ipynb` and `2025-08-18-tictactoe-code.ipynb` (display and win-check logic)."
   ]
  },
  {
   "cell_type": "markdown",
   "id": "30df62d1",
   "metadata": {},
   "source": [
    "## Key ideas about Python `str`\n",
    "\n",
    "- Strings are immutable: once created, their contents can't be changed (operations return new strings).\n",
    "- Use `==` to compare string *contents* (not `is`).\n",
    "- Common operations: concatenation (`+`), repetition (`*`), slicing (`s[1:3]`), `len(s)`, `s.upper()`, `s.lower()`, `s.split()`, `\n",
    ".join(list)`.\n",
    "- A single character is also a string of length 1 in Python (there's no distinct `char` type)."
   ]
  },
  {
   "cell_type": "code",
   "execution_count": null,
   "id": "532a55df",
   "metadata": {},
   "outputs": [],
   "source": [
    "# 🔧 Mini-Challenge 1: Create and Explore the Board\n",
    "\n",
    "# Create an empty board (9 empty spaces)\n",
    "board = [\" \"] * 9\n",
    "\n",
    "print(\"Our empty board list:\")\n",
    "print(board)\n",
    "print()\n",
    "\n",
    "# Let's see what's at different positions\n",
    "print(\"Position 0 (top-left):\", repr(board[0]))\n",
    "print(\"Position 4 (center):\", repr(board[4]))  \n",
    "print(\"Position 8 (bottom-right):\", repr(board[8]))\n",
    "print()\n",
    "\n",
    "# Now let's place some symbols and see what happens\n",
    "board[0] = \"X\"  # Top-left\n",
    "board[4] = \"O\"  # Center  \n",
    "board[8] = \"X\"  # Bottom-right\n",
    "\n",
    "print(\"After placing some symbols:\")\n",
    "print(board)"
   ]
  },
  {
   "cell_type": "markdown",
   "id": "93edc3e0",
   "metadata": {},
   "source": [
    "## Board as a `list` of strings\n",
    "\n",
    "We represent the Tic-tac-toe board as `board = [\n",
    "] * 9` where each square is a string (empty string or a single-character mark like `'X'` or `'O'`). The repository's Tic-tac-toe lesson uses a `print_board` function; we include it here exactly as used in the lesson so you can copy/run it."
   ]
  },
  {
   "cell_type": "code",
   "execution_count": null,
   "id": "619313f3",
   "metadata": {},
   "outputs": [],
   "source": [
    "# print_board function taken from the Tic-tac-toe lesson notebook\n",
    "def print_board(board):\n",
    "    \"\"\"This function takes a board list and displays it as tic-tac-toe\"\"\"\n",
    "    print()  # Empty line for spacing\n",
    "    print(f\" {board[0]} | {board[1]} | {board[2]}\")\n",
    "    print(\"---+---+---\")\n",
    "    print(f\" {board[3]} | {board[4]} | {board[5]}\")\n",
    "    print(\"---+---+---\")\n",
    "    print(f\" {board[6]} | {board[7]} | {board[8]}\")\n",
    "    print()  # Empty line for spacing\n",
    "\n",
    "# create a board and demonstrate placing moves\n",
    "board = [' '] * 9\n",
    "board[4] = 'X'   # place X in the center\n",
    "board[0] = 'O'   # place O at top-left\n",
    "print_board(board)"
   ]
  },
  {
   "cell_type": "markdown",
   "id": "31ed0791",
   "metadata": {},
   "source": [
    "## Useful string operations with game examples\n",
    "\n",
    "We'll demonstrate some common `str` operations and why they matter when handling board contents."
   ]
  },
  {
   "cell_type": "code",
   "execution_count": null,
   "id": "3dc28b90",
   "metadata": {},
   "outputs": [],
   "source": [
    "s = 'x'\n",
    "print('original:', s)\n",
    "print('upper ->', s.upper())\n",
    "print('concat ->', s + ' and O')\n",
    "print('repeat ->', s * 3)\n",
    "# converting marks to a single string representation of the board\n",
    "row = '|'.join(board[0:3])\n",
    "print('row string ->', row)\n",
    "# splitting back into list values (example)\n",
    "parts = row.split('|')\n",
    "print('parts ->', parts)"
   ]
  },
  {
   "cell_type": "markdown",
   "id": "d3a3f9ce",
   "metadata": {},
   "source": [
    "## Checking wins (win patterns)\n",
    "\n",
    "The Tic-tac-toe lesson uses a set of winning index patterns. The check below is adapted from the repository's notebook and returns `True` when a player has three matching marks (non-empty) in any winning pattern."
   ]
  },
  {
   "cell_type": "code",
   "execution_count": null,
   "id": "e36d5b99",
   "metadata": {},
   "outputs": [],
   "source": [
    "win_patterns = [\n",
    "    [0,1,2], [3,4,5], [6,7,8],  # rows\n",
    "    [0,3,6], [1,4,7], [2,5,8],  # columns\n",
    "    [0,4,8], [2,4,6]            # diagonals\n",
    "]\n",
    "\n",
    "def check_winner(board, symbol):\n",
    "    \"\"\"Return True if `symbol` (e.g. 'X') has a winning pattern on `board`.\n",
    "    This uses the same idea shown in the Tic-tac-toe lesson notebooks.\n",
    "    \"\"\"\n",
    "    for combo in win_patterns:\n",
    "        if all(board[i] == symbol for i in combo):\n",
    "            return True\n",
    "    return False\n",
    "\n",
    "# quick check\n",
    "b = ['X','X','X',' ',' ',' ',' ',' ',' ']\n",
    "print('check_winner ->', check_winner(b, 'X'))  # True"
   ]
  },
  {
   "cell_type": "markdown",
   "id": "1b99235b",
   "metadata": {},
   "source": [
    "## Finding a two-in-a-row (simple example)\n",
    "\n",
    "To connect string handling to game heuristics, here is a small helper that finds an empty cell that would complete a player's three-in-a-row (similar to patterns used in some Tic-tac-toe AI). This is a direct, minimal translation of the idea used in the JS implementation in the repository."
   ]
  },
  {
   "cell_type": "code",
   "execution_count": null,
   "id": "ea6ed347",
   "metadata": {},
   "outputs": [],
   "source": [
    "def find_best_move(board, player):\n",
    "    \"\"\"Return index of empty square that completes `player` to three-in-a-row, or -1 if none.\n",
    "    \"\"\"\n",
    "    for pattern in win_patterns:\n",
    "        line = [board[i] for i in pattern]\n",
    "        player_count = sum(1 for cell in line if cell == player)\n",
    "        empty_count = sum(1 for cell in line if cell == ' ')\n",
    "        if player_count == 2 and empty_count == 1:\n",
    "            empty_pos = pattern[line.index(' ')]\n",
    "            return empty_pos\n",
    "    return -1\n",
    "\n",
    "# test the helper\n",
    "test_board = ['X','X',' ',' ',' ',' ',' ',' ',' ']\n",
    "print('find_best_move ->', find_best_move(test_board, 'X'))  # Expect 2"
   ]
  },
  {
   "cell_type": "code",
   "execution_count": null,
   "id": "2e2bca8d",
   "metadata": {},
   "outputs": [],
   "source": [
    "# full small demonstration putting it together\n",
    "board_demo = [' ',' ',' ',' ',' ',' ',' ',' ',' ']\n",
    "board_demo[0] = 'X'\n",
    "board_demo[1] = 'X'\n",
    "print_board(board_demo)\n",
    "move = find_best_move(board_demo, 'X')\n",
    "print('best move for X ->', move)\n",
    "if move != -1:\n",
    "    board_demo[move] = 'X'\n",
    "    print_board(board_demo)\n",
    "    print('X wins?', check_winner(board_demo, 'X'))"
   ]
  },
  {
   "cell_type": "markdown",
   "id": "d008cd88",
   "metadata": {},
   "source": [
    "## Notes and next steps\n",
    "\n",
    "- This lesson reuses display and win-check ideas directly from the repository's Tic-tac-toe notebooks.\n",
    "- Exercises: try using `''.join(board)` to create a single-line board representation and then parse it back; try replacing string marks with single-character `char` equivalents in other languages — in Python a single character is also a `str`.\n",
    "- To expand this into a full program, add input handling and a game loop (the Tic-tac-toe notebooks in this repo show a complete game loop you can copy)."
   ]
  }
 ],
 "metadata": {
  "language_info": {
   "name": "python"
  }
 },
 "nbformat": 4,
 "nbformat_minor": 5
}
