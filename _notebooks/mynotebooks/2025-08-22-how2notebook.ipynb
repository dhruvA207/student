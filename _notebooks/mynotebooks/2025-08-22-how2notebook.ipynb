{
 "cells": [
  {
   "cell_type": "markdown",
   "id": "df3a8a8a",
   "metadata": {},
   "source": [
    "---\n",
    "title: How2notebook\n",
    "comments: true\n",
    "layout: post\n",
    "permalink: /how2notebook\n",
    "description: notebook stuff\n",
    "author: Dhruv\n",
    "---"
   ]
  },
  {
   "cell_type": "code",
   "execution_count": 5,
   "id": "c1491345",
   "metadata": {
    "vscode": {
     "languageId": "javascript"
    }
   },
   "outputs": [
    {
     "data": {
      "application/javascript": "\nvar compsci_joke_list = [\n    { joke: \"Why do programmers prefer dark mode? Because light attracts bugs.\", complexity: \"1\" },\n    { joke: \"Why do Java developers wear glasses? Because they don't see sharp.\", complexity: \"2\" },\n    { joke: \"How many programmers does it take to change a light bulb? None, that's a hardware problem.\", complexity: \"1\" },\n    { joke: \"Why do Python programmers prefer snake_case? Because they can't C.\", complexity: \"2\" },\n    { joke: \"Why was the JavaScript developer sad? Because he didn't know how to 'null' his feelings.\", complexity: \"3\" },\n    { joke: \"Why do programmers always mix up Christmas and Halloween? Because Oct 31 == Dec 25.\", complexity: \"3\" },\n    { joke: \"Why did the programmer quit his job? Because he didn't get arrays.\", complexity: \"O(n)\" },\n    { joke: \"Why do Linux programmers prefer using the terminal? Because they don't like Windows.\", complexity: \"1\" },\n];\nvar randomIndex = Math.floor(Math.random() * compsci_joke_list.length);\nvar selectedJoke = compsci_joke_list[randomIndex];\nconsole.log(\"Joke #\" + (randomIndex + 1) + \": \" + selectedJoke.joke + \" (Complexity: \" + selectedJoke.complexity + \")\");\n",
      "text/plain": [
       "<IPython.core.display.Javascript object>"
      ]
     },
     "metadata": {},
     "output_type": "display_data"
    }
   ],
   "source": [
    "%%javascript\n",
    "\n",
    "var compsci_joke_list = [\n",
    "    { joke: \"Why do programmers prefer dark mode? Because light attracts bugs.\", complexity: \"1\" },\n",
    "    { joke: \"Why do Java developers wear glasses? Because they don't see sharp.\", complexity: \"2\" },\n",
    "    { joke: \"How many programmers does it take to change a light bulb? None, that's a hardware problem.\", complexity: \"1\" },\n",
    "    { joke: \"Why do Python programmers prefer snake_case? Because they can't C.\", complexity: \"2\" },\n",
    "    { joke: \"Why was the JavaScript developer sad? Because he didn't know how to 'null' his feelings.\", complexity: \"3\" },\n",
    "    { joke: \"Why do programmers always mix up Christmas and Halloween? Because Oct 31 == Dec 25.\", complexity: \"3\" },\n",
    "    { joke: \"Why did the programmer quit his job? Because he didn't get arrays.\", complexity: \"O(n)\" },\n",
    "    { joke: \"Why do Linux programmers prefer using the terminal? Because they don't like Windows.\", complexity: \"1\" },\n",
    "];\n",
    "var randomIndex = Math.floor(Math.random() * compsci_joke_list.length);\n",
    "var selectedJoke = compsci_joke_list[randomIndex];\n",
    "console.log(\"Joke #\" + (randomIndex + 1) + \": \" + selectedJoke.joke + \" (Complexity: \" + selectedJoke.complexity + \")\");"
   ]
  }
 ],
 "metadata": {
  "kernelspec": {
   "display_name": "venv",
   "language": "python",
   "name": "python3"
  },
  "language_info": {
   "codemirror_mode": {
    "name": "ipython",
    "version": 3
   },
   "file_extension": ".py",
   "mimetype": "text/x-python",
   "name": "python",
   "nbconvert_exporter": "python",
   "pygments_lexer": "ipython3",
   "version": "3.13.7"
  }
 },
 "nbformat": 4,
 "nbformat_minor": 5
}
